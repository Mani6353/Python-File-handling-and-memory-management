{
  "nbformat": 4,
  "nbformat_minor": 0,
  "metadata": {
    "colab": {
      "provenance": []
    },
    "kernelspec": {
      "name": "python3",
      "display_name": "Python 3"
    },
    "language_info": {
      "name": "python"
    }
  },
  "cells": [
    {
      "cell_type": "code",
      "execution_count": null,
      "metadata": {
        "id": "DbRJclku3--k"
      },
      "outputs": [],
      "source": [
        "#Files, exceptional handling, logging and memory management"
      ]
    },
    {
      "cell_type": "code",
      "source": [
        "#Theory Questions :"
      ],
      "metadata": {
        "id": "l4WE0QrS5MZ7"
      },
      "execution_count": null,
      "outputs": []
    },
    {
      "cell_type": "code",
      "source": [
        "#Q1) What is the difference between interpreted and compiled languages?\n",
        "\n",
        "'''\n",
        "Answer: Compiled languages translate code into machine code before execution, while interpreted languages execute code line-by-line at runtime.\n",
        "'''"
      ],
      "metadata": {
        "id": "MI_FOLsY5Mc2"
      },
      "execution_count": null,
      "outputs": []
    },
    {
      "cell_type": "code",
      "source": [
        "#Q2) What is exception handling in Python?\n",
        "\n",
        "'''\n",
        "Answer: Exception handling manages runtime errors using try-except blocks to prevent program crashes.\n",
        "'''"
      ],
      "metadata": {
        "id": "9rLhVMws5Mfp"
      },
      "execution_count": null,
      "outputs": []
    },
    {
      "cell_type": "code",
      "source": [
        "#Q3) What is the purpose of the finally block in exception handling?\n",
        "\n",
        "'''\n",
        "Answer: The finally block runs code regardless of whether an exception occurs.\n",
        "'''"
      ],
      "metadata": {
        "id": "fB0PUfWl5MiT"
      },
      "execution_count": null,
      "outputs": []
    },
    {
      "cell_type": "code",
      "source": [
        "#Q4) What is logging in Python?\n",
        "\n",
        "'''\n",
        "Answer: Logging records program events for debugging and monitoring.\n",
        "'''"
      ],
      "metadata": {
        "id": "6ONFX-yw5MlH"
      },
      "execution_count": null,
      "outputs": []
    },
    {
      "cell_type": "code",
      "source": [
        "#Q5) What is the significance of the __del__ method in Python?\n",
        "\n",
        "'''\n",
        "Answer: __del__ is a destructor method called when an object is about to be destroyed.\n",
        "'''"
      ],
      "metadata": {
        "id": "qqJPD5OI5Mni"
      },
      "execution_count": null,
      "outputs": []
    },
    {
      "cell_type": "code",
      "source": [
        "#Q6) What is the difference between import and from ... import in Python?\n",
        "\n",
        "'''\n",
        "Answer: import imports the entire module, while from ... import imports specific functions.\n",
        "'''"
      ],
      "metadata": {
        "id": "N_kakB2z5MqR"
      },
      "execution_count": null,
      "outputs": []
    },
    {
      "cell_type": "code",
      "source": [
        "#Q7) How can you handle multiple exceptions in Python?\n",
        "\n",
        "'''\n",
        "Answer: Multiple exceptions can be handled using multiple except blocks.\n",
        "'''"
      ],
      "metadata": {
        "id": "iyqmTds15MtH"
      },
      "execution_count": null,
      "outputs": []
    },
    {
      "cell_type": "code",
      "source": [
        "#Q8) What is the purpose of the with statement when handling files in Python?\n",
        "\n",
        "'''\n",
        "Answer: The with statement ensures that a file is automatically closed even if errors occur.\n",
        "'''"
      ],
      "metadata": {
        "id": "0w21BeZX5Mv_"
      },
      "execution_count": null,
      "outputs": []
    },
    {
      "cell_type": "code",
      "source": [
        "#Q9) What is the difference between multithreading and multiprocessing?\n",
        "\n",
        "'''\n",
        "Answer: Multithreading runs multiple threads within a single process, while multiprocessing runs multiple processes simultaneously.\n",
        "'''"
      ],
      "metadata": {
        "id": "1u2rM6DM5N9o"
      },
      "execution_count": null,
      "outputs": []
    },
    {
      "cell_type": "code",
      "source": [
        "#Q10) What are the advantages of using logging in a program?\n",
        "\n",
        "'''\n",
        "Answer: Logging helps in debugging, monitoring program execution, and provides a historical record of events. It is also more flexible and scalable than print statements for debugging.\n",
        "'''"
      ],
      "metadata": {
        "id": "zfKsO2Mn5OXQ"
      },
      "execution_count": null,
      "outputs": []
    },
    {
      "cell_type": "code",
      "source": [
        "#Q11) What is memory management in Python?\n",
        "\n",
        "'''\n",
        "Answer: Memory management in Python is handled automatically through reference counting and garbage collection.\n",
        "'''"
      ],
      "metadata": {
        "id": "gftt87V25OfI"
      },
      "execution_count": null,
      "outputs": []
    },
    {
      "cell_type": "code",
      "source": [
        "#Q12) What are the basic steps involved in exception handling in Python?\n",
        "\n",
        "'''\n",
        "Answer: Exception handling involves try, except, and optionally finally blocks.\n",
        "'''"
      ],
      "metadata": {
        "id": "muqqdJH175n9"
      },
      "execution_count": null,
      "outputs": []
    },
    {
      "cell_type": "code",
      "source": [
        "#Q13) Why is memory management important in Python?\n",
        "\n",
        "'''\n",
        "Answer: Memory management ensures efficient use of system resources.\n",
        "'''"
      ],
      "metadata": {
        "id": "s2Ti8cQA8DZ9"
      },
      "execution_count": null,
      "outputs": []
    },
    {
      "cell_type": "code",
      "source": [
        "#Q14) What is the role of try and except in exception handling?\n",
        "\n",
        "'''\n",
        "Answer: try and except handle exceptions in Python.\n",
        "'''"
      ],
      "metadata": {
        "id": "UAlXm8Fp8Dfl"
      },
      "execution_count": null,
      "outputs": []
    },
    {
      "cell_type": "code",
      "source": [
        " #Q15) How does Python's garbage collection system work?\n",
        "\n",
        "'''\n",
        "Answer: Python's garbage collection system frees up memory when objects are no longer in use.\n",
        "'''"
      ],
      "metadata": {
        "id": "wVvsVwmp8DkN"
      },
      "execution_count": null,
      "outputs": []
    },
    {
      "cell_type": "code",
      "source": [
        "#Q16) What is the purpose of the else block in exception handling?\n",
        "\n",
        "'''\n",
        "Answer: The else block runs if no exceptions occur.\n",
        "'''"
      ],
      "metadata": {
        "id": "pvgNBAzV8Dqd"
      },
      "execution_count": null,
      "outputs": []
    },
    {
      "cell_type": "code",
      "source": [
        "#Q17) What are the common logging levels in Python?\n",
        "\n",
        "'''\n",
        "Answer: Common logging levels include DEBUG, INFO, WARNING, ERROR, and CRITICAL.\n",
        "'''"
      ],
      "metadata": {
        "id": "73D3GC838DwF"
      },
      "execution_count": null,
      "outputs": []
    },
    {
      "cell_type": "code",
      "source": [
        "#Q18) What is the difference between os.fork() and multiprocessing in Python?\n",
        "\n",
        "'''\n",
        "Answer: os.fork() creates a child process, while multiprocessing creates multiple processes.\n",
        "'''"
      ],
      "metadata": {
        "id": "JQdSmnEO8D2d"
      },
      "execution_count": null,
      "outputs": []
    },
    {
      "cell_type": "code",
      "source": [
        "#Q19) What is the importance of closing a file in Python?\n",
        "\n",
        "'''\n",
        "Answer: Closing a file ensures that system resources are released.\n",
        "'''"
      ],
      "metadata": {
        "id": "PI-_ui-v8D6t"
      },
      "execution_count": null,
      "outputs": []
    },
    {
      "cell_type": "code",
      "source": [
        "#Q20) What is the difference between file.read() and file.readline() in Python?\n",
        "\n",
        "'''\n",
        "Answer: file.read() reads the entire file, while file.readline() reads one line at a time.\n",
        "'''"
      ],
      "metadata": {
        "id": "WVngUN_w8EBl"
      },
      "execution_count": null,
      "outputs": []
    },
    {
      "cell_type": "code",
      "source": [
        "#Q21) What is the logging module in Python used for?\n",
        "\n",
        "'''\n",
        "Answer: The logging module in Python is used for recording events that occur while a program is running. These events can be used for debugging, monitoring, and analyzing the program's behavior.\n",
        "        It provides a standardized way to categorize and output messages with different levels of severity (e.g., DEBUG, INFO, WARNING, ERROR, CRITICAL).\n",
        "'''"
      ],
      "metadata": {
        "id": "O5EEY_6a8EHZ"
      },
      "execution_count": null,
      "outputs": []
    },
    {
      "cell_type": "code",
      "source": [
        "#Q22) What is the os module in Python used for in file handling?\n",
        "\n",
        "'''\n",
        "Answer: The os module in Python provides a way to interact with the operating system. In the context of file handling, it provides functions for interacting with the file system, such as creating directories,\n",
        "        listing files, renaming files, and checking file paths.\n",
        "'''"
      ],
      "metadata": {
        "id": "eGWbu_AkECqB"
      },
      "execution_count": null,
      "outputs": []
    },
    {
      "cell_type": "code",
      "source": [
        "#Q23) What are the challenges associated with memory management in Python?\n",
        "\n",
        "'''\n",
        "Answer: While Python's automatic memory management simplifies development, challenges can include memory leaks (objects not being deallocated when no longer needed),\n",
        "        excessive memory consumption by certain data structures or operations, and performance overhead associated with garbage collection. Understanding object references and\n",
        "        avoiding circular references can help mitigate some of these challenges.\n",
        "'''"
      ],
      "metadata": {
        "id": "y-92xanUECwY"
      },
      "execution_count": null,
      "outputs": []
    },
    {
      "cell_type": "code",
      "source": [
        "#Q24)  How do you raise an exception manually in Python?\n",
        "\n",
        "'''\n",
        "Answer: To raise an exception manually in Python, you can use the raise statement.\n",
        "'''"
      ],
      "metadata": {
        "id": "JieOTWFmEC17"
      },
      "execution_count": null,
      "outputs": []
    },
    {
      "cell_type": "code",
      "source": [
        "#Q25) Why is it important to use multithreading in certain applications?\n",
        "\n",
        "'''\n",
        "Answer: Multithreading is important in applications that need to perform multiple tasks concurrently, especially when those tasks involve waiting for external resources (like network requests or file I/O).\n",
        "        It allows the program to remain responsive and utilize resources efficiently by performing other tasks while waiting.\n",
        "'''"
      ],
      "metadata": {
        "id": "RYrthZhdEC7Q"
      },
      "execution_count": null,
      "outputs": []
    },
    {
      "cell_type": "code",
      "source": [
        "# Practical Questions:"
      ],
      "metadata": {
        "id": "W5BRnKQTEDAw"
      },
      "execution_count": null,
      "outputs": []
    },
    {
      "cell_type": "code",
      "source": [
        "#Q1) How can you open a file for writing in Python and write a string to it?\n",
        "\n",
        "with open(\"example.txt\", \"w\") as file:\n",
        "    file.write(\"Hello, world!\")"
      ],
      "metadata": {
        "id": "o4NgpqchEDGZ"
      },
      "execution_count": 1,
      "outputs": []
    },
    {
      "cell_type": "code",
      "source": [
        "#Q2) Write a Python program to read the contents of a file and print each line.\n",
        "\n",
        "with open(\"example.txt\", \"r\") as file:\n",
        "    for line in file:\n",
        "        print(line)"
      ],
      "metadata": {
        "id": "6N3XlNLUEDL4",
        "colab": {
          "base_uri": "https://localhost:8080/"
        },
        "outputId": "2014c24c-35ec-4265-8c4a-831a30a28ec8"
      },
      "execution_count": 2,
      "outputs": [
        {
          "output_type": "stream",
          "name": "stdout",
          "text": [
            "Hello, world!\n"
          ]
        }
      ]
    },
    {
      "cell_type": "code",
      "source": [
        "#Q3) How would you handle a case where the file doesn't exist while trying to open it for reading?\n",
        "\n",
        "try:\n",
        "    with open(\"example.txt\", \"r\") as file:\n",
        "        content = file.read()\n",
        "        print(content)\n",
        "except FileNotFoundError:\n",
        "    print(\"Error: The file does not exist.\")\n"
      ],
      "metadata": {
        "id": "1QjmxPr1G5IO",
        "colab": {
          "base_uri": "https://localhost:8080/"
        },
        "outputId": "63726d2b-e21f-4a6e-ca0c-242a3cbbbede"
      },
      "execution_count": 3,
      "outputs": [
        {
          "output_type": "stream",
          "name": "stdout",
          "text": [
            "Hello, world!\n"
          ]
        }
      ]
    },
    {
      "cell_type": "code",
      "source": [
        "#Q4) Write a Python script that reads from one file and writes its content to another file.\n",
        "\n",
        "with open(\"example.txt\", \"r\") as source_file:\n",
        "    content = source_file.read()\n",
        "\n",
        "with open(\"output.txt\", \"w\") as destination_file:\n",
        "    destination_file.write(content)"
      ],
      "metadata": {
        "id": "9r8FeJ2OG5OY"
      },
      "execution_count": 4,
      "outputs": []
    },
    {
      "cell_type": "code",
      "source": [
        "#Q5) How would you catch and handle division by zero error in Python?\n",
        "\n",
        "try:\n",
        "    result = 10 / 0\n",
        "except ZeroDivisionError:\n",
        "    print(\"Error: Division by zero is not allowed.\")"
      ],
      "metadata": {
        "colab": {
          "base_uri": "https://localhost:8080/"
        },
        "id": "U5faM8FUG5Ud",
        "outputId": "503d0efb-1edd-4ff1-e86a-eff5c7eb05c9"
      },
      "execution_count": 5,
      "outputs": [
        {
          "output_type": "stream",
          "name": "stdout",
          "text": [
            "Error: Division by zero is not allowed.\n"
          ]
        }
      ]
    },
    {
      "cell_type": "code",
      "source": [
        "#Q6) Write a Python program that logs an error message to a log file when a division by zero exception occurs.\n",
        "\n",
        "import logging\n",
        "\n",
        "logging.basicConfig(filename=\"error.log\", level=logging.ERROR)\n",
        "\n",
        "try:\n",
        "    result = 10 / 0\n",
        "except ZeroDivisionError:\n",
        "    logging.error(\"Division by zero error occurred.\")"
      ],
      "metadata": {
        "colab": {
          "base_uri": "https://localhost:8080/"
        },
        "id": "NXeGNhR-G5bN",
        "outputId": "ac0cbf2c-36e8-4c77-e53c-14c13c3cc676"
      },
      "execution_count": 6,
      "outputs": [
        {
          "output_type": "stream",
          "name": "stderr",
          "text": [
            "ERROR:root:Division by zero error occurred.\n"
          ]
        }
      ]
    },
    {
      "cell_type": "code",
      "source": [
        "#Q7) How do you log information at different levels (INFO, ERROR, WARNING) in Python using the logging module?\n",
        "\n",
        "import logging\n",
        "\n",
        "logging.basicConfig(filename=\"log.txt\", level=logging.INFO)\n",
        "\n",
        "logging.info(\"This is an informational message.\")\n",
        "logging.warning(\"This is a warning message.\")\n",
        "logging.error(\"This is an error message.\")"
      ],
      "metadata": {
        "colab": {
          "base_uri": "https://localhost:8080/"
        },
        "id": "z8j2b9-bG5iF",
        "outputId": "e9416897-6a67-48bd-cc61-91e8d4ae2aef"
      },
      "execution_count": 7,
      "outputs": [
        {
          "output_type": "stream",
          "name": "stderr",
          "text": [
            "WARNING:root:This is a warning message.\n",
            "ERROR:root:This is an error message.\n"
          ]
        }
      ]
    },
    {
      "cell_type": "code",
      "source": [
        "#Q8) Write a program to handle a file opening error using exception handling.\n",
        "\n",
        "try:\n",
        "    with open(\"nonexistent.txt\", \"r\") as file:\n",
        "        content = file.read()\n",
        "except FileNotFoundError:\n",
        "    print(\"Error: The file does not exist.\")"
      ],
      "metadata": {
        "colab": {
          "base_uri": "https://localhost:8080/"
        },
        "id": "Zg7Vu4RJG5oN",
        "outputId": "b0d8a81d-c471-4a6b-8335-7f3a2621198b"
      },
      "execution_count": 8,
      "outputs": [
        {
          "output_type": "stream",
          "name": "stdout",
          "text": [
            "Error: The file does not exist.\n"
          ]
        }
      ]
    },
    {
      "cell_type": "code",
      "source": [
        "#Q9) How can you read a file line by line and store its content in a list in Python?\n",
        "\n",
        "with open(\"example.txt\", \"r\") as file:\n",
        "    lines = file.readlines()\n",
        "\n",
        "for line in lines:\n",
        "    print(line)"
      ],
      "metadata": {
        "id": "jPAqFjBxG5uD",
        "colab": {
          "base_uri": "https://localhost:8080/"
        },
        "outputId": "b176f9e1-545b-4608-821a-311de1a4a024"
      },
      "execution_count": 9,
      "outputs": [
        {
          "output_type": "stream",
          "name": "stdout",
          "text": [
            "Hello, world!\n"
          ]
        }
      ]
    },
    {
      "cell_type": "code",
      "source": [
        "#Q10) How can you append data to an existing file in Python?\n",
        "\n",
        "with open(\"example.txt\", \"a\") as file:\n",
        "    file.write(\"\\nAppended line.\")"
      ],
      "metadata": {
        "id": "7Edt-PpjG5z9"
      },
      "execution_count": 10,
      "outputs": []
    },
    {
      "cell_type": "code",
      "source": [
        "#Q11) Write a Python program that uses a try-except block to handle an error when attempting to access a dictionary key that doesn't exist.\n",
        "\n",
        "my_dict = {\"a\": 1, \"b\": 2}\n",
        "\n",
        "try:\n",
        "    value = my_dict[\"c\"]\n",
        "except KeyError:\n",
        "    print(\"Error: Key does not exist in the dictionary.\")"
      ],
      "metadata": {
        "colab": {
          "base_uri": "https://localhost:8080/"
        },
        "id": "R_34ufSIG56L",
        "outputId": "3c80dab8-b5ff-4059-d54b-050c65eb1a93"
      },
      "execution_count": 11,
      "outputs": [
        {
          "output_type": "stream",
          "name": "stdout",
          "text": [
            "Error: Key does not exist in the dictionary.\n"
          ]
        }
      ]
    },
    {
      "cell_type": "code",
      "source": [
        "#Q12) Write a program that demonstrates using multiple except blocks to handle different types of exceptionsl.\n",
        "\n",
        "try:\n",
        "    result = 10 / 0\n",
        "except ZeroDivisionError:\n",
        "    print(\"Error: Division by zero.\")\n",
        "except ValueError:\n",
        "    print(\"Error: Invalid value.\")"
      ],
      "metadata": {
        "colab": {
          "base_uri": "https://localhost:8080/"
        },
        "id": "dGe06yWjG6AN",
        "outputId": "ef63853e-b0bc-4108-cc16-29feeb91c869"
      },
      "execution_count": 12,
      "outputs": [
        {
          "output_type": "stream",
          "name": "stdout",
          "text": [
            "Error: Division by zero.\n"
          ]
        }
      ]
    },
    {
      "cell_type": "code",
      "source": [
        "#Q13)  How would you check if a file exists before attempting to read it in Python?\n",
        "\n",
        "import os\n",
        "\n",
        "if os.path.exists(\"example.txt\"):\n",
        "    with open(\"example.txt\", \"r\") as file:\n",
        "        content = file.read()\n",
        "        print(content)\n",
        "else:\n",
        "    print(\"Error: The file does not exist.\")"
      ],
      "metadata": {
        "id": "eVGgfAZMG6Gu",
        "colab": {
          "base_uri": "https://localhost:8080/"
        },
        "outputId": "9be8dd9c-74bc-40ec-a5b4-8cb0af4e9fe7"
      },
      "execution_count": 13,
      "outputs": [
        {
          "output_type": "stream",
          "name": "stdout",
          "text": [
            "Hello, world!\n",
            "Appended line.\n"
          ]
        }
      ]
    },
    {
      "cell_type": "code",
      "source": [
        "#Q14) Write a program that uses the logging module to log both informational and error messages.\n",
        "\n",
        "import logging\n",
        "\n",
        "logging.basicConfig(filename=\"log.txt\", level=logging.INFO)\n",
        "\n",
        "logging.info(\"This is an informational message.\")\n",
        "logging.error(\"This is an error message.\")"
      ],
      "metadata": {
        "colab": {
          "base_uri": "https://localhost:8080/"
        },
        "id": "PWmQ7YaEG6M3",
        "outputId": "f8d54b23-57e4-482e-cf69-36db7fc3a16b"
      },
      "execution_count": 14,
      "outputs": [
        {
          "output_type": "stream",
          "name": "stderr",
          "text": [
            "ERROR:root:This is an error message.\n"
          ]
        }
      ]
    },
    {
      "cell_type": "code",
      "source": [
        "#Q15) Write a Python program that prints the content of a file and handles the case when the file is empty.\n",
        "filename = \"sample.txt\"  # Change this to your file name\n",
        "\n",
        "try:\n",
        "    with open(filename, \"r\") as f:\n",
        "        content = f.read()\n",
        "        if content.strip() == \"\":\n",
        "            print(\"The file is empty.\")\n",
        "        else:\n",
        "            print(content)\n",
        "except FileNotFoundError:\n",
        "    print(\"File not found.\")\n"
      ],
      "metadata": {
        "id": "Sy56vfemKSB3",
        "colab": {
          "base_uri": "https://localhost:8080/"
        },
        "outputId": "2b76f7d0-2353-4873-a7dc-3dad4ce1957b"
      },
      "execution_count": 16,
      "outputs": [
        {
          "output_type": "stream",
          "name": "stdout",
          "text": [
            "File not found.\n"
          ]
        }
      ]
    },
    {
      "cell_type": "code",
      "source": [
        "#Q16) Demonstrate how to use memory profiling to check the memory usage of a small program.\n",
        "\n",
        "from memory_profiler import profile\n",
        "\n",
        "@profile\n",
        "def create_list():\n",
        "    nums = [i for i in range(1000000)]  # Create a list with 1 million numbers\n",
        "    return nums\n",
        "\n",
        "if __name__ == \"__main__\":\n",
        "    create_list()\n",
        "\n",
        "\n"
      ],
      "metadata": {
        "id": "YbzhOr5JKcCA",
        "colab": {
          "base_uri": "https://localhost:8080/",
          "height": 110
        },
        "outputId": "8d6cc836-fd57-438e-edc9-14d0507ee3b1"
      },
      "execution_count": 20,
      "outputs": [
        {
          "output_type": "error",
          "ename": "SyntaxError",
          "evalue": "invalid syntax (ipython-input-922460910.py, line 3)",
          "traceback": [
            "\u001b[0;36m  File \u001b[0;32m\"/tmp/ipython-input-922460910.py\"\u001b[0;36m, line \u001b[0;32m3\u001b[0m\n\u001b[0;31m    pip install memory-profiler\u001b[0m\n\u001b[0m        ^\u001b[0m\n\u001b[0;31mSyntaxError\u001b[0m\u001b[0;31m:\u001b[0m invalid syntax\n"
          ]
        }
      ]
    },
    {
      "cell_type": "code",
      "source": [
        "#Q17) Write a Python program to create and write a list of numbers to a file, one number per line.\n",
        "\n",
        "numbers = [1, 2, 3, 4, 5]\n",
        "\n",
        "with open(\"numbers.txt\", \"w\") as file:\n",
        "    for number in numbers:\n",
        "        file.write(str(number) + \"\\n\")"
      ],
      "metadata": {
        "id": "z2HUQ7TcKvvT"
      },
      "execution_count": 21,
      "outputs": []
    },
    {
      "cell_type": "code",
      "source": [
        "#Q18) How would you implement a basic logging setup that logs to a file with rotation after 1MB?\n",
        "\n",
        "import logging\n",
        "from logging.handlers import RotatingFileHandler\n",
        "\n",
        "logger = logging.getLogger(\"my_logger\")\n",
        "logger.setLevel(logging.INFO)\n",
        "\n",
        "handler = RotatingFileHandler(\"my_log.log\", maxBytes=1000000, backupCount=5)\n",
        "logger"
      ],
      "metadata": {
        "colab": {
          "base_uri": "https://localhost:8080/"
        },
        "id": "GPtCkW8ILH9V",
        "outputId": "3ba36d70-75ac-4d16-8f62-a2c222b96849"
      },
      "execution_count": 22,
      "outputs": [
        {
          "output_type": "execute_result",
          "data": {
            "text/plain": [
              "<Logger my_logger (INFO)>"
            ]
          },
          "metadata": {},
          "execution_count": 22
        }
      ]
    },
    {
      "cell_type": "code",
      "source": [
        "#Q19)  Write a program that handles both IndexError and KeyError using a try-except block.\n",
        "\n",
        "my_list = [1, 2, 3]\n",
        "my_dict = {\"a\": 1, \"b\": 2}\n",
        "\n",
        "try:\n",
        "    print(my_list[3])  # This will raise an IndexError\n",
        "    print(my_dict[\"c\"]) # This will raise a KeyError\n",
        "except (IndexError, KeyError) as e:\n",
        "    print(f\"An error occurred: {e}\")"
      ],
      "metadata": {
        "colab": {
          "base_uri": "https://localhost:8080/"
        },
        "id": "AZphB1ttLRSn",
        "outputId": "aa97d825-14a5-4caa-f3d1-06837c6dbef1"
      },
      "execution_count": 23,
      "outputs": [
        {
          "output_type": "stream",
          "name": "stdout",
          "text": [
            "An error occurred: list index out of range\n"
          ]
        }
      ]
    },
    {
      "cell_type": "code",
      "source": [
        "#Q20) How would you open a file and read its contents using a context manager in Python?\n",
        "\n",
        "with open(\"example.txt\", \"r\") as file:\n",
        "    content = file.read()\n",
        "    print(content)\n"
      ],
      "metadata": {
        "id": "CIMNxJG2L1nj",
        "colab": {
          "base_uri": "https://localhost:8080/"
        },
        "outputId": "ff8064c0-8c78-48e6-89a8-017eeb00b942"
      },
      "execution_count": 24,
      "outputs": [
        {
          "output_type": "stream",
          "name": "stdout",
          "text": [
            "Hello, world!\n",
            "Appended line.\n"
          ]
        }
      ]
    },
    {
      "cell_type": "code",
      "source": [
        "#Q21) Write a Python program that reads a file and prints the number of occurrences of a specific word.\n",
        "\n",
        "word_to_count = \"hello\"\n",
        "\n",
        "with open(\"example.txt\", \"r\") as file:\n",
        "    content = file.read()\n",
        "    word_count = content.count(word_to_count)"
      ],
      "metadata": {
        "id": "lm15zuovMIxs"
      },
      "execution_count": 25,
      "outputs": []
    },
    {
      "cell_type": "code",
      "source": [
        "#Q22) How can you check if a file is empty before attempting to read its contents?\n",
        "\n",
        "with open(\"example.txt\", \"r\") as file:\n",
        "    content = file.read()\n",
        "    if content:\n",
        "        print(content)\n",
        "    else:\n",
        "        print(\"Error: The file is empty.\")"
      ],
      "metadata": {
        "id": "6fyjBxOBMI59",
        "colab": {
          "base_uri": "https://localhost:8080/"
        },
        "outputId": "6bee2c72-2292-4876-ffe9-781d0094a51f"
      },
      "execution_count": 26,
      "outputs": [
        {
          "output_type": "stream",
          "name": "stdout",
          "text": [
            "Hello, world!\n",
            "Appended line.\n"
          ]
        }
      ]
    },
    {
      "cell_type": "code",
      "source": [
        "#Q23) Write a Python program that writes to a log file when an error occurs during file handling.\n",
        "\n",
        "filename = \"data.txt\"  # File name\n",
        "\n",
        "try:\n",
        "    with open(filename, \"r\") as f:\n",
        "        print(f.read())\n",
        "\n",
        "except Exception as e:\n",
        "    with open(\"error.log\", \"a\") as log:  # Append mode so old logs stay\n",
        "        log.write(str(e) + \"\\n\")\n",
        "    print(\"Error occurred. Check error.log\")\n"
      ],
      "metadata": {
        "id": "KtStJQ4iMJBl",
        "colab": {
          "base_uri": "https://localhost:8080/"
        },
        "outputId": "dffce459-84e9-4d56-a455-9b9fd9b76a76"
      },
      "execution_count": 28,
      "outputs": [
        {
          "output_type": "stream",
          "name": "stdout",
          "text": [
            "Error occurred. Check error.log\n"
          ]
        }
      ]
    },
    {
      "cell_type": "code",
      "source": [],
      "metadata": {
        "id": "Y_bRml-eMJSx"
      },
      "execution_count": null,
      "outputs": []
    }
  ]
}